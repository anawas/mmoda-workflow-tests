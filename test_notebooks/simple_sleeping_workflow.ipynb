{
 "cells": [
  {
   "cell_type": "code",
   "execution_count": 13,
   "metadata": {},
   "outputs": [],
   "source": [
    "import time\n",
    "from oda_api.api import ProgressReporter"
   ]
  },
  {
   "cell_type": "code",
   "execution_count": 14,
   "metadata": {
    "tags": [
     "parameters"
    ]
   },
   "outputs": [],
   "source": [
    "interval = 10. # oda:TimeIntervalSeconds"
   ]
  },
  {
   "cell_type": "code",
   "execution_count": 15,
   "metadata": {},
   "outputs": [
    {
     "name": "stdout",
     "output_type": "stream",
     "text": [
      "Sleeped 10 seconds\n",
      "Sleeped 20 seconds\n",
      "Sleeped 30 seconds\n",
      "Sleeped 40 seconds\n",
      "Sleeped 50 seconds\n",
      "Sleeped 60 seconds\n"
     ]
    }
   ],
   "source": [
    "pr = ProgressReporter()\n",
    "\n",
    "steps = int(interval) // 10\n",
    "rest = interval % 10\n",
    "\n",
    "i=0\n",
    "for i in range(1, steps+1):\n",
    "    time.sleep(10)\n",
    "    print(f'Sleeped {10 * i} seconds')\n",
    "    pr.report_progress(stage='sleeping', progress=10 * i)\n",
    "if rest>0:\n",
    "    time.sleep(rest)\n",
    "    print(f'Sleeped {10 * i + rest} seconds')"
   ]
  },
  {
   "cell_type": "code",
   "execution_count": 12,
   "metadata": {
    "tags": [
     "outputs"
    ]
   },
   "outputs": [],
   "source": [
    "out_text = f'Sleeped for {10 * i + rest} seconds' # http://odahub.io/ontology#ODATextProduct"
   ]
  }
 ],
 "metadata": {
  "kernelspec": {
   "display_name": "Python 3",
   "language": "python",
   "name": "python3"
  },
  "language_info": {
   "codemirror_mode": {
    "name": "ipython",
    "version": 3
   },
   "file_extension": ".py",
   "mimetype": "text/x-python",
   "name": "python",
   "nbconvert_exporter": "python",
   "pygments_lexer": "ipython3",
   "version": "3.10.9"
  }
 },
 "nbformat": 4,
 "nbformat_minor": 2
}
